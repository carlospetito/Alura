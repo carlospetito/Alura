{
  "nbformat": 4,
  "nbformat_minor": 0,
  "metadata": {
    "colab": {
      "name": "Teste_de_Hipótese.ipynb",
      "provenance": [],
      "include_colab_link": true
    },
    "kernelspec": {
      "display_name": "Python 3",
      "language": "python",
      "name": "python3"
    },
    "language_info": {
      "codemirror_mode": {
        "name": "ipython",
        "version": 3
      },
      "file_extension": ".py",
      "mimetype": "text/x-python",
      "name": "python",
      "nbconvert_exporter": "python",
      "pygments_lexer": "ipython3",
      "version": "3.6.5"
    }
  },
  "cells": [
    {
      "cell_type": "markdown",
      "metadata": {
        "id": "view-in-github",
        "colab_type": "text"
      },
      "source": [
        "<a href=\"https://colab.research.google.com/github/carlospetito/Alura/blob/main/Estatistica_parte_3/Teste_de_Hip%C3%B3tese.ipynb\" target=\"_parent\"><img src=\"https://colab.research.google.com/assets/colab-badge.svg\" alt=\"Open In Colab\"/></a>"
      ]
    },
    {
      "cell_type": "markdown",
      "metadata": {
        "id": "WvMflodMjQKe"
      },
      "source": [
        "# <font color=green size=10>CURSO DE ESTATÍSTICA - PARTE 3</font>\n",
        "\n",
        "***\n",
        "\n",
        "## Trabalho sobre testes de hipóteses\n",
        "\n",
        "Utilizando os conhecimentos adquiridos em nosso treinamento realize o teste de hipóteses proposto abaixo.\n",
        "\n",
        "Siga o roteiro proposto e vá completando as células vazias. Procure pensar em mais testes interessantes que podem ser realizados com o nosso dataset."
      ]
    },
    {
      "cell_type": "markdown",
      "metadata": {
        "id": "cVgsZ_E3jQKg"
      },
      "source": [
        "# <font color=green>DATASET DO PROJETO</font>\n",
        "***"
      ]
    },
    {
      "cell_type": "markdown",
      "metadata": {
        "id": "iN1gIbaKjQKh"
      },
      "source": [
        "### Pesquisa Nacional por Amostra de Domicílios - 2015\n",
        "\n",
        "A <b>Pesquisa Nacional por Amostra de Domicílios - PNAD</b> investiga anualmente, de forma permanente, características gerais da população, de educação, trabalho, rendimento e habitação e outras, com periodicidade variável, de acordo com as necessidades de informação para o país, como as características sobre migração, fecundidade, nupcialidade, saúde, segurança alimentar, entre outros temas. O levantamento dessas estatísticas constitui, ao longo dos 49 anos de realização da pesquisa, um importante instrumento para formulação, validação e avaliação de políticas orientadas para o desenvolvimento socioeconômico e a melhoria das condições de vida no Brasil."
      ]
    },
    {
      "cell_type": "markdown",
      "metadata": {
        "id": "U6V7br1RjQKi"
      },
      "source": [
        "### Fonte dos Dados\n",
        "\n",
        "https://ww2.ibge.gov.br/home/estatistica/populacao/trabalhoerendimento/pnad2015/microdados.shtm"
      ]
    },
    {
      "cell_type": "markdown",
      "metadata": {
        "id": "r0Fe_qnzjQKj"
      },
      "source": [
        "### Variáveis utilizadas\n",
        "\n",
        "> ### Renda\n",
        "> ***\n",
        "\n",
        "Rendimento mensal do trabalho principal para pessoas de 10 anos ou mais de idade.\n",
        "\n",
        "> ### Idade\n",
        "> ***\n",
        "\n",
        "Idade do morador na data de referência em anos.\n",
        "\n",
        "> ### Altura (elaboração própria)\n",
        "> ***\n",
        "\n",
        "Altura do morador em metros.\n",
        "\n",
        "> ### UF\n",
        "> ***\n",
        "\n",
        "|Código|Descrição|\n",
        "|---|---|\n",
        "|11|Rondônia|\n",
        "|12|Acre|\n",
        "|13|Amazonas|\n",
        "|14|Roraima|\n",
        "|15|Pará|\n",
        "|16|Amapá|\n",
        "|17|Tocantins|\n",
        "|21|Maranhão|\n",
        "|22|Piauí|\n",
        "|23|Ceará|\n",
        "|24|Rio Grande do Norte|\n",
        "|25|Paraíba|\n",
        "|26|Pernambuco|\n",
        "|27|Alagoas|\n",
        "|28|Sergipe|\n",
        "|29|Bahia|\n",
        "|31|Minas Gerais|\n",
        "|32|Espírito Santo|\n",
        "|33|Rio de Janeiro|\n",
        "|35|São Paulo|\n",
        "|41|Paraná|\n",
        "|42|Santa Catarina|\n",
        "|43|Rio Grande do Sul|\n",
        "|50|Mato Grosso do Sul|\n",
        "|51|Mato Grosso|\n",
        "|52|Goiás|\n",
        "|53|Distrito Federal|\n",
        "\n",
        "> ### Sexo\t\n",
        "> ***\n",
        "\n",
        "|Código|Descrição|\n",
        "|---|---|\n",
        "|0|Masculino|\n",
        "|1|Feminino|\n",
        "\n",
        "> ### Anos de Estudo\n",
        "> ***\n",
        "\n",
        "|Código|Descrição|\n",
        "|---|---|\n",
        "|1|Sem instrução e menos de 1 ano|\n",
        "|2|1 ano|\n",
        "|3|2 anos|\n",
        "|4|3 anos|\n",
        "|5|4 anos|\n",
        "|6|5 anos|\n",
        "|7|6 anos|\n",
        "|8|7 anos|\n",
        "|9|8 anos|\n",
        "|10|9 anos|\n",
        "|11|10 anos|\n",
        "|12|11 anos|\n",
        "|13|12 anos|\n",
        "|14|13 anos|\n",
        "|15|14 anos|\n",
        "|16|15 anos ou mais|\n",
        "|17|Não determinados| \n",
        "||Não aplicável|\n",
        "\n",
        "> ### Cor\n",
        "> ***\n",
        "\n",
        "|Código|Descrição|\n",
        "|---|---|\n",
        "|0|Indígena|\n",
        "|2|Branca|\n",
        "|4|Preta|\n",
        "|6|Amarela|\n",
        "|8|Parda|\n",
        "|9|Sem declaração|"
      ]
    },
    {
      "cell_type": "markdown",
      "metadata": {
        "id": "OK1IQH5cX7Gb"
      },
      "source": [
        "#### <font color='red'>Observação</font>\n",
        "***\n",
        "> Os seguintes tratamentos foram realizados nos dados originais:\n",
        "> 1. Foram eliminados os registros onde a <b>Renda</b> era inválida (999 999 999 999);\n",
        "> 2. Foram eliminados os registros onde a <b>Renda</b> era missing;\n",
        "> 3. Foram considerados somente os registros das <b>Pessoas de Referência</b> de cada domicílio (responsável pelo domicílio)."
      ]
    },
    {
      "cell_type": "markdown",
      "metadata": {
        "id": "ZIqLOffNTg1Y"
      },
      "source": [
        "***\n",
        "***"
      ]
    },
    {
      "cell_type": "markdown",
      "metadata": {
        "id": "8Rw70V6ojQKk"
      },
      "source": [
        "### Utilize a célula abaixo para importar as biblioteca que precisar para executar as tarefas\n",
        "#### <font color='red'>Sugestões: pandas, numpy, scipy, statsmodels</font>"
      ]
    },
    {
      "cell_type": "code",
      "metadata": {
        "id": "fcTgimHBybMz"
      },
      "source": [
        "import pandas as pd\n",
        "import numpy as np\n",
        "from scipy.stats import norm\n",
        "import statsmodels"
      ],
      "execution_count": 26,
      "outputs": []
    },
    {
      "cell_type": "markdown",
      "metadata": {
        "id": "2a-gvBvCULwt"
      },
      "source": [
        "### Importe o dataset e armazene o conteúdo em uma DataFrame"
      ]
    },
    {
      "cell_type": "code",
      "metadata": {
        "id": "ufRZ7TLwjQKo"
      },
      "source": [
        "dados = pd.read_csv('dados.csv')"
      ],
      "execution_count": 7,
      "outputs": []
    },
    {
      "cell_type": "markdown",
      "metadata": {
        "id": "Oq3CKHCmTg1j"
      },
      "source": [
        "### Visualize o conteúdo do DataFrame"
      ]
    },
    {
      "cell_type": "code",
      "metadata": {
        "colab": {
          "base_uri": "https://localhost:8080/",
          "height": 202
        },
        "id": "GsC_WhLFjQKq",
        "scrolled": true,
        "outputId": "00871e31-fa2c-4ed5-abeb-66649d1a587a"
      },
      "source": [
        "dados.head()"
      ],
      "execution_count": 8,
      "outputs": [
        {
          "output_type": "execute_result",
          "data": {
            "text/html": [
              "<div>\n",
              "<style scoped>\n",
              "    .dataframe tbody tr th:only-of-type {\n",
              "        vertical-align: middle;\n",
              "    }\n",
              "\n",
              "    .dataframe tbody tr th {\n",
              "        vertical-align: top;\n",
              "    }\n",
              "\n",
              "    .dataframe thead th {\n",
              "        text-align: right;\n",
              "    }\n",
              "</style>\n",
              "<table border=\"1\" class=\"dataframe\">\n",
              "  <thead>\n",
              "    <tr style=\"text-align: right;\">\n",
              "      <th></th>\n",
              "      <th>UF</th>\n",
              "      <th>Sexo</th>\n",
              "      <th>Idade</th>\n",
              "      <th>Cor</th>\n",
              "      <th>Anos de Estudo</th>\n",
              "      <th>Renda</th>\n",
              "      <th>Altura</th>\n",
              "    </tr>\n",
              "  </thead>\n",
              "  <tbody>\n",
              "    <tr>\n",
              "      <th>0</th>\n",
              "      <td>11</td>\n",
              "      <td>0</td>\n",
              "      <td>23</td>\n",
              "      <td>8</td>\n",
              "      <td>12</td>\n",
              "      <td>800</td>\n",
              "      <td>1.603808</td>\n",
              "    </tr>\n",
              "    <tr>\n",
              "      <th>1</th>\n",
              "      <td>11</td>\n",
              "      <td>1</td>\n",
              "      <td>23</td>\n",
              "      <td>2</td>\n",
              "      <td>12</td>\n",
              "      <td>1150</td>\n",
              "      <td>1.739790</td>\n",
              "    </tr>\n",
              "    <tr>\n",
              "      <th>2</th>\n",
              "      <td>11</td>\n",
              "      <td>1</td>\n",
              "      <td>35</td>\n",
              "      <td>8</td>\n",
              "      <td>15</td>\n",
              "      <td>880</td>\n",
              "      <td>1.760444</td>\n",
              "    </tr>\n",
              "    <tr>\n",
              "      <th>3</th>\n",
              "      <td>11</td>\n",
              "      <td>0</td>\n",
              "      <td>46</td>\n",
              "      <td>2</td>\n",
              "      <td>6</td>\n",
              "      <td>3500</td>\n",
              "      <td>1.783158</td>\n",
              "    </tr>\n",
              "    <tr>\n",
              "      <th>4</th>\n",
              "      <td>11</td>\n",
              "      <td>1</td>\n",
              "      <td>47</td>\n",
              "      <td>8</td>\n",
              "      <td>9</td>\n",
              "      <td>150</td>\n",
              "      <td>1.690631</td>\n",
              "    </tr>\n",
              "  </tbody>\n",
              "</table>\n",
              "</div>"
            ],
            "text/plain": [
              "   UF  Sexo  Idade  Cor  Anos de Estudo  Renda    Altura\n",
              "0  11     0     23    8              12    800  1.603808\n",
              "1  11     1     23    2              12   1150  1.739790\n",
              "2  11     1     35    8              15    880  1.760444\n",
              "3  11     0     46    2               6   3500  1.783158\n",
              "4  11     1     47    8               9    150  1.690631"
            ]
          },
          "metadata": {},
          "execution_count": 8
        }
      ]
    },
    {
      "cell_type": "markdown",
      "metadata": {
        "id": "lmAJLIu8pslb"
      },
      "source": [
        "## <font color='red'>Problema</font>"
      ]
    },
    {
      "cell_type": "markdown",
      "metadata": {
        "id": "0zUUY8klpslc"
      },
      "source": [
        "Você é um pesquisador que estuda o mercado de trabalho brasileiro e resolve estudar as diferenças salariais dos trabalhadores dos estados do Rio de Janeiro e de São Paulo. Durante sua pesquisa você verifica que, aparentemente, os rendimentos dos trabalhadores no estado do Rio de Janeiro são mais baixos que os rendimentos dos trabalhadores no estado de São Paulo. Para confirmar esta conclusão realize um teste de hipótese de comparação de médias em cima de duas amostras de trabalhadores dos dois estados. Siga as seguintes etapas:\n",
        "\n",
        "- Selecione duas amostras de **500 trabalhadores** para cada um dos dois estados (variável UF) para realizar o teste. Utilize o **parâmetro random_state=101**.\n",
        "- Considere o **nível de significância de 5%**.\n",
        "- Teste a hipótese de que a **renda média dos trabalhadores do Rio de Janeiro é menor que a renda média dos trabalhadores de São Paulo**."
      ]
    },
    {
      "cell_type": "markdown",
      "metadata": {
        "id": "WUknTBZgpslc"
      },
      "source": [
        "---"
      ]
    },
    {
      "cell_type": "markdown",
      "metadata": {
        "id": "xzGuwM4xpslc"
      },
      "source": [
        "### Seleção das amostras"
      ]
    },
    {
      "cell_type": "code",
      "metadata": {
        "id": "nuNSrzfYpsld",
        "scrolled": true
      },
      "source": [
        "renda_RJ = dados.query('UF == 33').sample(n = 500, random_state = 101).Renda"
      ],
      "execution_count": 41,
      "outputs": []
    },
    {
      "cell_type": "code",
      "metadata": {
        "id": "W-W9IOs1psle",
        "scrolled": true
      },
      "source": [
        "renda_SP = dados.query('UF == 35').sample(n = 500, random_state = 101).Renda"
      ],
      "execution_count": 42,
      "outputs": []
    },
    {
      "cell_type": "markdown",
      "metadata": {
        "id": "FOFa-cHwpslg"
      },
      "source": [
        "### Dados do problema\n",
        "Obter média e desvio-padrão para as duas amostras"
      ]
    },
    {
      "cell_type": "code",
      "metadata": {
        "colab": {
          "base_uri": "https://localhost:8080/"
        },
        "id": "BGyXCbompslh",
        "outputId": "bea3aee6-0765-4358-bc8b-3a934b5346ba"
      },
      "source": [
        "media_amostra_RJ = renda_RJ.mean()\n",
        "media_amostra_RJ"
      ],
      "execution_count": 43,
      "outputs": [
        {
          "output_type": "execute_result",
          "data": {
            "text/plain": [
              "2240.518"
            ]
          },
          "metadata": {},
          "execution_count": 43
        }
      ]
    },
    {
      "cell_type": "code",
      "metadata": {
        "colab": {
          "base_uri": "https://localhost:8080/"
        },
        "id": "RoxFOCA3pslk",
        "outputId": "f88d5d57-09c8-40f1-d7e6-7230187b8001"
      },
      "source": [
        "desvio_amostra_RJ = renda_RJ.std()\n",
        "desvio_amostra_RJ"
      ],
      "execution_count": 44,
      "outputs": [
        {
          "output_type": "execute_result",
          "data": {
            "text/plain": [
              "4643.836161867941"
            ]
          },
          "metadata": {},
          "execution_count": 44
        }
      ]
    },
    {
      "cell_type": "code",
      "metadata": {
        "colab": {
          "base_uri": "https://localhost:8080/"
        },
        "id": "Of8L6Hygpsll",
        "outputId": "9b6411cc-65ea-4bad-81c2-2449141003aa"
      },
      "source": [
        "\n",
        "media_amostra_SP = renda_SP.mean()\n",
        "media_amostra_SP"
      ],
      "execution_count": 45,
      "outputs": [
        {
          "output_type": "execute_result",
          "data": {
            "text/plain": [
              "2839.352"
            ]
          },
          "metadata": {},
          "execution_count": 45
        }
      ]
    },
    {
      "cell_type": "code",
      "metadata": {
        "colab": {
          "base_uri": "https://localhost:8080/"
        },
        "id": "-cSpXXTepsln",
        "outputId": "c43f07c5-7b4c-4872-af71-7ae9ca9b4404"
      },
      "source": [
        "desvio_amostra_SP = renda_SP.std()\n",
        "desvio_amostra_SP"
      ],
      "execution_count": 46,
      "outputs": [
        {
          "output_type": "execute_result",
          "data": {
            "text/plain": [
              "3699.384225434127"
            ]
          },
          "metadata": {},
          "execution_count": 46
        }
      ]
    },
    {
      "cell_type": "code",
      "metadata": {
        "id": "Cl7kdxkUpslo"
      },
      "source": [
        "significancia = 0.05\n",
        "confianca = 1 - significancia\n",
        "n_RJ = 500\n",
        "n_SP = 500\n",
        "d_0 = 0"
      ],
      "execution_count": 47,
      "outputs": []
    },
    {
      "cell_type": "markdown",
      "metadata": {
        "id": "Kyp6CNssrAmw"
      },
      "source": [
        "## Lembre-se..."
      ]
    },
    {
      "cell_type": "markdown",
      "metadata": {
        "id": "xGGMFhzwrAmx"
      },
      "source": [
        "<img src='https://caelum-online-public.s3.amazonaws.com/1229-estatistica-parte3/01/img014.png' width=90%>"
      ]
    },
    {
      "cell_type": "markdown",
      "metadata": {
        "id": "PGoWwWwjpslp"
      },
      "source": [
        "---"
      ]
    },
    {
      "cell_type": "markdown",
      "metadata": {
        "id": "tO597Oxgpslp"
      },
      "source": [
        "### **Passo 1** - formulação das hipóteses $H_0$ e $H_1$\n",
        "\n",
        "#### <font color='red'>Lembre-se, a hipótese nula sempre contém a alegação de igualdade</font>"
      ]
    },
    {
      "cell_type": "markdown",
      "metadata": {
        "id": "LysVU-7fpslr"
      },
      "source": [
        "### $\\mu_1 \\Rightarrow$ Média das rendas no Rio de Janeioro\n",
        "### $\\mu_2 \\Rightarrow$ Média das rendas em São Paulo\n",
        "\n",
        "### $\n",
        "\\begin{cases}\n",
        "H_0: \\mu_1 \\geq \\mu_2\\\\\n",
        "H_1: \\mu_1 < \\mu_2\n",
        "\\end{cases}\n",
        "$\n",
        "\n",
        "### ou\n",
        "\n",
        "### $\n",
        "\\begin{cases}\n",
        "H_0: \\mu_1 -\\mu_2 \\geq 0\\\\\n",
        "H_1: \\mu_1 -\\mu_2 < 0\n",
        "\\end{cases}\n",
        "$\n"
      ]
    },
    {
      "cell_type": "markdown",
      "metadata": {
        "id": "ENKqbCgQpslr"
      },
      "source": [
        "---"
      ]
    },
    {
      "cell_type": "markdown",
      "metadata": {
        "id": "dBA05Y3Zpslr"
      },
      "source": [
        "### **Passo 2** - escolha da distribuição amostral adequada"
      ]
    },
    {
      "cell_type": "markdown",
      "metadata": {
        "id": "6_Q_Wtjlpsls"
      },
      "source": [
        "### O tamanho da amostra é maior que 30?\n",
        "#### Resp.: Sim\n",
        "\n",
        "### Podemos afirmar que a população se distribui aproximadamente como uma normal?\n",
        "#### Resp.: Não\n",
        "\n",
        "### O desvio padrão populacional é conhecido?\n",
        "#### Resp.: Não"
      ]
    },
    {
      "cell_type": "markdown",
      "metadata": {
        "id": "T6sVzVjVpsls"
      },
      "source": [
        "---"
      ]
    },
    {
      "cell_type": "markdown",
      "metadata": {
        "id": "SUN4yJqzpsls"
      },
      "source": [
        "### **Passo 3** - fixação da significância do teste ($\\alpha$)"
      ]
    },
    {
      "cell_type": "code",
      "metadata": {
        "colab": {
          "base_uri": "https://localhost:8080/"
        },
        "id": "b3Y_CZmzpsls",
        "outputId": "7ef7e026-963a-478b-a11d-ff5cf5076d95"
      },
      "source": [
        "probabilidade = significancia\n",
        "probabilidade"
      ],
      "execution_count": 48,
      "outputs": [
        {
          "output_type": "execute_result",
          "data": {
            "text/plain": [
              "0.05"
            ]
          },
          "metadata": {},
          "execution_count": 48
        }
      ]
    },
    {
      "cell_type": "code",
      "metadata": {
        "colab": {
          "base_uri": "https://localhost:8080/"
        },
        "id": "qNse2bFRpslu",
        "outputId": "ec8ee7ad-f0e7-4d14-8934-02f1a8258c7c"
      },
      "source": [
        "z_alpha = norm.ppf(probabilidade)\n",
        "z_alpha"
      ],
      "execution_count": 49,
      "outputs": [
        {
          "output_type": "execute_result",
          "data": {
            "text/plain": [
              "-1.6448536269514729"
            ]
          },
          "metadata": {},
          "execution_count": 49
        }
      ]
    },
    {
      "cell_type": "markdown",
      "metadata": {
        "id": "xUhiEXRMpslv"
      },
      "source": [
        "---"
      ]
    },
    {
      "cell_type": "markdown",
      "metadata": {
        "id": "iooB1aPHpslv"
      },
      "source": [
        "### **Passo 4** - cálculo da estatística-teste e verificação desse valor com as áreas de aceitação e rejeição do teste"
      ]
    },
    {
      "cell_type": "code",
      "metadata": {
        "colab": {
          "base_uri": "https://localhost:8080/"
        },
        "id": "AL2i9JOTpslw",
        "outputId": "121e3eb9-9661-48b5-bafd-daa1afd3e267"
      },
      "source": [
        "numerador = (media_amostra_RJ - media_amostra_SP) - d_0\n",
        "denominador = np.sqrt(((desvio_amostra_RJ ** 2) / n_RJ) + ((desvio_amostra_SP ** 2) / n_SP))\n",
        "z = numerador / denominador\n",
        "z"
      ],
      "execution_count": 50,
      "outputs": [
        {
          "output_type": "execute_result",
          "data": {
            "text/plain": [
              "-2.255318273608561"
            ]
          },
          "metadata": {},
          "execution_count": 50
        }
      ]
    },
    {
      "cell_type": "markdown",
      "metadata": {
        "id": "4dn58Fc2pslx"
      },
      "source": [
        "---"
      ]
    },
    {
      "cell_type": "markdown",
      "metadata": {
        "id": "P-7NL33-pslx"
      },
      "source": [
        "### **Passo 5** - Aceitação ou rejeição da hipótese nula"
      ]
    },
    {
      "cell_type": "markdown",
      "metadata": {
        "id": "QrObW-BXpsly"
      },
      "source": [
        "### <font color='red'>Critério do valor crítico</font>"
      ]
    },
    {
      "cell_type": "code",
      "metadata": {
        "colab": {
          "base_uri": "https://localhost:8080/"
        },
        "id": "tkJSji7gpsly",
        "outputId": "bc93264c-2db7-4060-df7b-bfc8cc58766b"
      },
      "source": [
        "z <= z_alpha"
      ],
      "execution_count": 51,
      "outputs": [
        {
          "output_type": "execute_result",
          "data": {
            "text/plain": [
              "True"
            ]
          },
          "metadata": {},
          "execution_count": 51
        }
      ]
    },
    {
      "cell_type": "markdown",
      "metadata": {
        "id": "cyuNEHfwpsl0"
      },
      "source": [
        "### <font color='red'>Critério do valor $p$</font>"
      ]
    },
    {
      "cell_type": "markdown",
      "metadata": {
        "id": "UtWm-GiFPkyX"
      },
      "source": [
        "### Utilize DescrStatsW"
      ]
    },
    {
      "cell_type": "code",
      "metadata": {
        "id": "ByM5rZVi0luG"
      },
      "source": [
        "from statsmodels.stats.weightstats import DescrStatsW, CompareMeans"
      ],
      "execution_count": 53,
      "outputs": []
    },
    {
      "cell_type": "code",
      "metadata": {
        "id": "uW0uVFnFpsl1"
      },
      "source": [
        "test_RJ = DescrStatsW(renda_RJ)"
      ],
      "execution_count": 54,
      "outputs": []
    },
    {
      "cell_type": "code",
      "metadata": {
        "id": "kP92TQqupsl1"
      },
      "source": [
        "test_SP = DescrStatsW(renda_SP)"
      ],
      "execution_count": 55,
      "outputs": []
    },
    {
      "cell_type": "code",
      "metadata": {
        "id": "diOjg4G8psl2"
      },
      "source": [
        "test_A = test_RJ.get_compare(test_SP)"
      ],
      "execution_count": 64,
      "outputs": []
    },
    {
      "cell_type": "code",
      "metadata": {
        "colab": {
          "base_uri": "https://localhost:8080/"
        },
        "id": "tweh7q_spsl5",
        "outputId": "d9291e67-6d4e-4e65-ac80-5f211026af61"
      },
      "source": [
        "z, p_valor = test_A.ztest_ind(alternative='smaller', value=0)\n",
        "print(f'z = {z}')\n",
        "print(f'O valor de p é {p_valor}')"
      ],
      "execution_count": 66,
      "outputs": [
        {
          "output_type": "stream",
          "name": "stdout",
          "text": [
            "z = -2.255318273608558\n",
            "O valor de p é 0.012056679215693396\n"
          ]
        }
      ]
    },
    {
      "cell_type": "markdown",
      "metadata": {
        "id": "Syf0s5X2Pkye"
      },
      "source": [
        "### Utilize CompareMeans"
      ]
    },
    {
      "cell_type": "code",
      "metadata": {
        "id": "qRkrt2XZhL9v"
      },
      "source": [
        "test_B = CompareMeans(test_RJ, test_SP)"
      ],
      "execution_count": 63,
      "outputs": []
    },
    {
      "cell_type": "code",
      "metadata": {
        "colab": {
          "base_uri": "https://localhost:8080/"
        },
        "id": "tSbOZem9hLvs",
        "outputId": "e2c583de-594c-43ff-93eb-9db5b173d593"
      },
      "source": [
        "z, p_valor = test_B.ztest_ind(alternative='smaller', value=0)\n",
        "print(f'z = {z}')\n",
        "print(f'O valor de p é {p_valor}')"
      ],
      "execution_count": 67,
      "outputs": [
        {
          "output_type": "stream",
          "name": "stdout",
          "text": [
            "z = -2.255318273608558\n",
            "O valor de p é 0.012056679215693396\n"
          ]
        }
      ]
    },
    {
      "cell_type": "code",
      "metadata": {
        "colab": {
          "base_uri": "https://localhost:8080/"
        },
        "id": "E3NF1BzYpsl6",
        "outputId": "b2ff2a8a-c3cd-4d0a-8712-c2498d9c5a3a"
      },
      "source": [
        "p_valor <= significancia"
      ],
      "execution_count": 68,
      "outputs": [
        {
          "output_type": "execute_result",
          "data": {
            "text/plain": [
              "True"
            ]
          },
          "metadata": {},
          "execution_count": 68
        }
      ]
    },
    {
      "cell_type": "markdown",
      "metadata": {
        "id": "UnBVO1uDpslz"
      },
      "source": [
        "### <font color='green'>Conclusão: Com um nivel de confiança de 95 % rejeitamos o H0, isto é, concluimos que a renda média do Rio de Janeiro é menor que a renda média de São Paulo </font>"
      ]
    },
    {
      "cell_type": "code",
      "metadata": {
        "id": "IAcPnKQArAny"
      },
      "source": [
        ""
      ],
      "execution_count": null,
      "outputs": []
    }
  ]
}