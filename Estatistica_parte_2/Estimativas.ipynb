{
  "nbformat": 4,
  "nbformat_minor": 0,
  "metadata": {
    "colab": {
      "name": "Estimativas.ipynb",
      "provenance": [],
      "include_colab_link": true
    },
    "kernelspec": {
      "display_name": "Python 3",
      "language": "python",
      "name": "python3"
    },
    "language_info": {
      "codemirror_mode": {
        "name": "ipython",
        "version": 3
      },
      "file_extension": ".py",
      "mimetype": "text/x-python",
      "name": "python",
      "nbconvert_exporter": "python",
      "pygments_lexer": "ipython3",
      "version": "3.6.5"
    }
  },
  "cells": [
    {
      "cell_type": "markdown",
      "metadata": {
        "id": "view-in-github",
        "colab_type": "text"
      },
      "source": [
        "<a href=\"https://colab.research.google.com/github/carlospetito/Alura/blob/main/Estatistica_parte_2/Estimativas.ipynb\" target=\"_parent\"><img src=\"https://colab.research.google.com/assets/colab-badge.svg\" alt=\"Open In Colab\"/></a>"
      ]
    },
    {
      "cell_type": "markdown",
      "metadata": {
        "id": "WvMflodMjQKe"
      },
      "source": [
        "***\n",
        "# <font color=green size=10>CURSO DE ESTATÍSTICA - PARTE 2</font>\n",
        "***\n",
        "\n",
        "## Trabalho sobre Probabilidades, Amostragem e Estimações\n",
        "\n",
        "Utilizando os conhecimentos adquiridos em nosso treinamento execute as tarefas abaixo. Siga o roteiro proposto e vá completando as células vazias."
      ]
    },
    {
      "cell_type": "markdown",
      "metadata": {
        "id": "cVgsZ_E3jQKg"
      },
      "source": [
        "# <font color=green>DATASET DO PROJETO</font>\n",
        "***"
      ]
    },
    {
      "cell_type": "markdown",
      "metadata": {
        "id": "iN1gIbaKjQKh"
      },
      "source": [
        "### Pesquisa Nacional por Amostra de Domicílios - 2015\n",
        "\n",
        "A <b>Pesquisa Nacional por Amostra de Domicílios - PNAD</b> investiga anualmente, de forma permanente, características gerais da população, de educação, trabalho, rendimento e habitação e outras, com periodicidade variável, de acordo com as necessidades de informação para o país, como as características sobre migração, fecundidade, nupcialidade, saúde, segurança alimentar, entre outros temas. O levantamento dessas estatísticas constitui, ao longo dos 49 anos de realização da pesquisa, um importante instrumento para formulação, validação e avaliação de políticas orientadas para o desenvolvimento socioeconômico e a melhoria das condições de vida no Brasil."
      ]
    },
    {
      "cell_type": "markdown",
      "metadata": {
        "id": "U6V7br1RjQKi"
      },
      "source": [
        "### Fonte dos Dados\n",
        "\n",
        "https://ww2.ibge.gov.br/home/estatistica/populacao/trabalhoerendimento/pnad2015/microdados.shtm"
      ]
    },
    {
      "cell_type": "markdown",
      "metadata": {
        "id": "r0Fe_qnzjQKj"
      },
      "source": [
        "### Variáveis utilizadas\n",
        "\n",
        "> ### Renda\n",
        "> ***\n",
        "\n",
        "Rendimento mensal do trabalho principal para pessoas de 10 anos ou mais de idade.\n",
        "\n",
        "> ### Idade\n",
        "> ***\n",
        "\n",
        "Idade do morador na data de referência em anos.\n",
        "\n",
        "> ### Altura (elaboração própria)\n",
        "> ***\n",
        "\n",
        "Altura do morador em metros.\n",
        "\n",
        "> ### UF\n",
        "> ***\n",
        "\n",
        "|Código|Descrição|\n",
        "|---|---|\n",
        "|11|Rondônia|\n",
        "|12|Acre|\n",
        "|13|Amazonas|\n",
        "|14|Roraima|\n",
        "|15|Pará|\n",
        "|16|Amapá|\n",
        "|17|Tocantins|\n",
        "|21|Maranhão|\n",
        "|22|Piauí|\n",
        "|23|Ceará|\n",
        "|24|Rio Grande do Norte|\n",
        "|25|Paraíba|\n",
        "|26|Pernambuco|\n",
        "|27|Alagoas|\n",
        "|28|Sergipe|\n",
        "|29|Bahia|\n",
        "|31|Minas Gerais|\n",
        "|32|Espírito Santo|\n",
        "|33|Rio de Janeiro|\n",
        "|35|São Paulo|\n",
        "|41|Paraná|\n",
        "|42|Santa Catarina|\n",
        "|43|Rio Grande do Sul|\n",
        "|50|Mato Grosso do Sul|\n",
        "|51|Mato Grosso|\n",
        "|52|Goiás|\n",
        "|53|Distrito Federal|\n",
        "\n",
        "> ### Sexo\t\n",
        "> ***\n",
        "\n",
        "|Código|Descrição|\n",
        "|---|---|\n",
        "|0|Masculino|\n",
        "|1|Feminino|\n",
        "\n",
        "> ### Anos de Estudo\n",
        "> ***\n",
        "\n",
        "|Código|Descrição|\n",
        "|---|---|\n",
        "|1|Sem instrução e menos de 1 ano|\n",
        "|2|1 ano|\n",
        "|3|2 anos|\n",
        "|4|3 anos|\n",
        "|5|4 anos|\n",
        "|6|5 anos|\n",
        "|7|6 anos|\n",
        "|8|7 anos|\n",
        "|9|8 anos|\n",
        "|10|9 anos|\n",
        "|11|10 anos|\n",
        "|12|11 anos|\n",
        "|13|12 anos|\n",
        "|14|13 anos|\n",
        "|15|14 anos|\n",
        "|16|15 anos ou mais|\n",
        "|17|Não determinados| \n",
        "||Não aplicável|\n",
        "\n",
        "> ### Cor\n",
        "> ***\n",
        "\n",
        "|Código|Descrição|\n",
        "|---|---|\n",
        "|0|Indígena|\n",
        "|2|Branca|\n",
        "|4|Preta|\n",
        "|6|Amarela|\n",
        "|8|Parda|\n",
        "|9|Sem declaração|"
      ]
    },
    {
      "cell_type": "markdown",
      "metadata": {
        "id": "OK1IQH5cX7Gb"
      },
      "source": [
        "#### <font color='red'>Observação</font>\n",
        "***\n",
        "> Os seguintes tratamentos foram realizados nos dados originais:\n",
        "> 1. Foram eliminados os registros onde a <b>Renda</b> era inválida (999 999 999 999);\n",
        "> 2. Foram eliminados os registros onde a <b>Renda</b> era missing;\n",
        "> 3. Foram considerados somente os registros das <b>Pessoas de Referência</b> de cada domicílio (responsável pelo domicílio)."
      ]
    },
    {
      "cell_type": "markdown",
      "metadata": {
        "id": "ZIqLOffNTg1Y"
      },
      "source": [
        "***\n",
        "***"
      ]
    },
    {
      "cell_type": "markdown",
      "metadata": {
        "id": "8Rw70V6ojQKk"
      },
      "source": [
        "### Utilize a célula abaixo para importar as bibliotecas que precisar para executar as tarefas\n",
        "#### <font color='red'>Sugestões: pandas, numpy, scipy etc.</font>"
      ]
    },
    {
      "cell_type": "code",
      "metadata": {
        "id": "itHvj-WRKa86"
      },
      "source": [
        "import pandas as pd\n",
        "import numpy as np"
      ],
      "execution_count": 1,
      "outputs": []
    },
    {
      "cell_type": "code",
      "metadata": {
        "id": "fcTgimHBybMz"
      },
      "source": [
        "from scipy.stats import norm, binom"
      ],
      "execution_count": 7,
      "outputs": []
    },
    {
      "cell_type": "markdown",
      "metadata": {
        "id": "2a-gvBvCULwt"
      },
      "source": [
        "### Importe o dataset e armazene o conteúdo em uma DataFrame"
      ]
    },
    {
      "cell_type": "code",
      "metadata": {
        "id": "ufRZ7TLwjQKo"
      },
      "source": [
        "dados = pd.read_csv('dados.csv')"
      ],
      "execution_count": 3,
      "outputs": []
    },
    {
      "cell_type": "markdown",
      "metadata": {
        "id": "Oq3CKHCmTg1j"
      },
      "source": [
        "### Visualize o conteúdo do DataFrame"
      ]
    },
    {
      "cell_type": "code",
      "metadata": {
        "colab": {
          "base_uri": "https://localhost:8080/",
          "height": 204
        },
        "id": "GsC_WhLFjQKq",
        "scrolled": true,
        "outputId": "263353bd-b9ba-4798-ed27-a0d312b44b52"
      },
      "source": [
        "dados.head()"
      ],
      "execution_count": 4,
      "outputs": [
        {
          "output_type": "execute_result",
          "data": {
            "text/html": [
              "<div>\n",
              "<style scoped>\n",
              "    .dataframe tbody tr th:only-of-type {\n",
              "        vertical-align: middle;\n",
              "    }\n",
              "\n",
              "    .dataframe tbody tr th {\n",
              "        vertical-align: top;\n",
              "    }\n",
              "\n",
              "    .dataframe thead th {\n",
              "        text-align: right;\n",
              "    }\n",
              "</style>\n",
              "<table border=\"1\" class=\"dataframe\">\n",
              "  <thead>\n",
              "    <tr style=\"text-align: right;\">\n",
              "      <th></th>\n",
              "      <th>UF</th>\n",
              "      <th>Sexo</th>\n",
              "      <th>Idade</th>\n",
              "      <th>Cor</th>\n",
              "      <th>Anos de Estudo</th>\n",
              "      <th>Renda</th>\n",
              "      <th>Altura</th>\n",
              "    </tr>\n",
              "  </thead>\n",
              "  <tbody>\n",
              "    <tr>\n",
              "      <th>0</th>\n",
              "      <td>11</td>\n",
              "      <td>0</td>\n",
              "      <td>23</td>\n",
              "      <td>8</td>\n",
              "      <td>12</td>\n",
              "      <td>800</td>\n",
              "      <td>1.603808</td>\n",
              "    </tr>\n",
              "    <tr>\n",
              "      <th>1</th>\n",
              "      <td>11</td>\n",
              "      <td>1</td>\n",
              "      <td>23</td>\n",
              "      <td>2</td>\n",
              "      <td>12</td>\n",
              "      <td>1150</td>\n",
              "      <td>1.739790</td>\n",
              "    </tr>\n",
              "    <tr>\n",
              "      <th>2</th>\n",
              "      <td>11</td>\n",
              "      <td>1</td>\n",
              "      <td>35</td>\n",
              "      <td>8</td>\n",
              "      <td>15</td>\n",
              "      <td>880</td>\n",
              "      <td>1.760444</td>\n",
              "    </tr>\n",
              "    <tr>\n",
              "      <th>3</th>\n",
              "      <td>11</td>\n",
              "      <td>0</td>\n",
              "      <td>46</td>\n",
              "      <td>2</td>\n",
              "      <td>6</td>\n",
              "      <td>3500</td>\n",
              "      <td>1.783158</td>\n",
              "    </tr>\n",
              "    <tr>\n",
              "      <th>4</th>\n",
              "      <td>11</td>\n",
              "      <td>1</td>\n",
              "      <td>47</td>\n",
              "      <td>8</td>\n",
              "      <td>9</td>\n",
              "      <td>150</td>\n",
              "      <td>1.690631</td>\n",
              "    </tr>\n",
              "  </tbody>\n",
              "</table>\n",
              "</div>"
            ],
            "text/plain": [
              "   UF  Sexo  Idade  Cor  Anos de Estudo  Renda    Altura\n",
              "0  11     0     23    8              12    800  1.603808\n",
              "1  11     1     23    2              12   1150  1.739790\n",
              "2  11     1     35    8              15    880  1.760444\n",
              "3  11     0     46    2               6   3500  1.783158\n",
              "4  11     1     47    8               9    150  1.690631"
            ]
          },
          "metadata": {},
          "execution_count": 4
        }
      ]
    },
    {
      "cell_type": "markdown",
      "metadata": {
        "id": "Aa401USPKa9H"
      },
      "source": [
        "# <font color='green'>Problema A</font>"
      ]
    },
    {
      "cell_type": "markdown",
      "metadata": {
        "id": "yUQqpvW6Ka9I"
      },
      "source": [
        "Avaliando nosso dataset é possível verificar que a **proporção de homens** como chefes de domicílios é de quase **70%**. Precisamos **selecionar aleatoriamente grupos de 10 indivíduos** para verificar as diferenças entre os rendimentos em cada grupo. Qual a **probabilidade de selecionamos um grupo que apresente a mesma proporção da população**, ou seja, selecionarmos um grupo que seja **composto por 7 homens e 3 mulheres**?\n",
        "\n",
        "#### <font color='blue'>Como tarefa extra, verifique a real proporção de homens e mulheres em nosso dataset (vimos como fazer isso em nosso primeiro curso de estatística).</font>\n",
        "\n",
        "#### <font color='red'>Verifique que tipo de distribuição de probabilidade se encaixa neste experimento.</font>"
      ]
    },
    {
      "cell_type": "markdown",
      "metadata": {
        "id": "sD1EHuhrKa9I"
      },
      "source": [
        "### Solução"
      ]
    },
    {
      "cell_type": "code",
      "metadata": {
        "id": "lbDcyHPTKa9J"
      },
      "source": [
        "k = 7"
      ],
      "execution_count": 9,
      "outputs": []
    },
    {
      "cell_type": "code",
      "metadata": {
        "id": "0_4L_QOnKa9L"
      },
      "source": [
        "n = 10"
      ],
      "execution_count": 8,
      "outputs": []
    },
    {
      "cell_type": "code",
      "metadata": {
        "id": "rl7sfPTYKa9N"
      },
      "source": [
        "p = 0.7"
      ],
      "execution_count": 10,
      "outputs": []
    },
    {
      "cell_type": "code",
      "metadata": {
        "colab": {
          "base_uri": "https://localhost:8080/"
        },
        "id": "2LQ5lVzoKa9P",
        "outputId": "94a5f224-0804-41f6-cd67-c019f3c26c91"
      },
      "source": [
        "probabilidade = binom.pmf(k, n, p)\n",
        "print(f'{probabilidade:.8f}')"
      ],
      "execution_count": 15,
      "outputs": [
        {
          "output_type": "stream",
          "name": "stdout",
          "text": [
            "0.26682793\n"
          ]
        }
      ]
    },
    {
      "cell_type": "code",
      "metadata": {
        "colab": {
          "base_uri": "https://localhost:8080/"
        },
        "id": "XMKT4SAvV0-4",
        "outputId": "deb8fd44-24f5-492f-f216-7ccb6bddf6d2"
      },
      "source": [
        "percentual_sexo = pd.value_counts(dados.Sexo, normalize = True)\n",
        "percentual_sexo"
      ],
      "execution_count": 24,
      "outputs": [
        {
          "output_type": "execute_result",
          "data": {
            "text/plain": [
              "[[0    0.692998\n",
              "  1    0.307002\n",
              "  Name: Sexo, dtype: float64]]"
            ]
          },
          "metadata": {},
          "execution_count": 24
        }
      ]
    },
    {
      "cell_type": "markdown",
      "metadata": {
        "id": "xhpA2dSYKa9R"
      },
      "source": [
        "# <font color='green'>Problema B</font>"
      ]
    },
    {
      "cell_type": "markdown",
      "metadata": {
        "id": "fSu7XWKnKa9S"
      },
      "source": [
        "Ainda sobre a questão anterior, **quantos grupos de 10 indivíduos** nós precisaríamos selecionar, de forma aleatória, para conseguir **100 grupos compostos por 7 homens e 3 mulheres**?\n",
        "\n",
        "#### <font color='red'>Lembre-se da forma de cálculo da média de uma distribuição binomial</font>"
      ]
    },
    {
      "cell_type": "markdown",
      "metadata": {
        "id": "Q3wWq7z2Ka9S"
      },
      "source": [
        "### Solução"
      ]
    },
    {
      "cell_type": "code",
      "metadata": {
        "colab": {
          "base_uri": "https://localhost:8080/"
        },
        "id": "F27eIYXzKa9T",
        "outputId": "65cc90f5-cb69-4e58-a017-aaa52a1aa789"
      },
      "source": [
        "media = n * p\n",
        "grupos = 100 / probabilidade\n",
        "grupos = int(grupos.round())\n",
        "grupos"
      ],
      "execution_count": 27,
      "outputs": [
        {
          "output_type": "execute_result",
          "data": {
            "text/plain": [
              "375"
            ]
          },
          "metadata": {},
          "execution_count": 27
        }
      ]
    },
    {
      "cell_type": "markdown",
      "metadata": {
        "id": "5OKBEMUNKa9V"
      },
      "source": [
        "# <font color='green'>Problema C</font>"
      ]
    },
    {
      "cell_type": "markdown",
      "metadata": {
        "id": "xEpjzbwBKa9W"
      },
      "source": [
        "Um cliente nos encomendou um estudo para avaliar o **rendimento dos chefes de domicílio no Brasil**. Para isso precisamos realizar uma nova coleta de dados, isto é, uma nova pesquisa de campo. Após reunião com o cliente foi possível elencar o seguinte conjunto de informações:\n",
        "\n",
        "> A. O resultado da pesquisa precisa estar pronto em **2 meses**;\n",
        "\n",
        "> B. Teremos somente **R$\\$$ 150.000,00** de recursos para realização da pesquisa de campo; e\n",
        "    \n",
        "> C. Seria interessante uma **margem de erro não superior a 10% em relação a média estimada**.\n",
        "\n",
        "Em nossa experiência com estudos deste tipo, sabemos que o **custo médio por indivíduo entrevistado fica em torno de R$\\$$ 100,00**. Com este conjunto de fatos avalie e obtenha o seguinte conjunto de informações para passar ao cliente:\n",
        "\n",
        "\n",
        "> 1. Para obter uma estimativa para os parâmetros da população (renda dos chefes de domicílio no Brasil), realize uma amostragem aleatória simples em nosso conjunto de dados. Essa amostra deve conter 200 elementos (utilize random_state = 101 para garantir que o mesmo experimento posso ser realizado novamente). Obtenha a média e o desvio-padrão dessa amostra.\n",
        "    \n",
        "> 2. Para a **margem de erro** especificada pelo cliente obtenha os **tamanhos de amostra** necessários para garantir os **níveis de confiança de 90%, 95% e 99%**.\n",
        "    \n",
        "> 3. Obtenha o **custo da pesquisa** para os três níveis de confiança.\n",
        "    \n",
        "> 4. Para o maior nível de confiança viável (dentro do orçamento disponível), obtenha um **intervalo de confiança para a média da população**.\n",
        "    \n",
        "> 5. Assumindo o **nível de confiança escolhido no item anterior**, qual **margem de erro** pode ser considerada utilizando todo o recurso disponibilizado pelo cliente?\n",
        "    \n",
        "> 6. Assumindo um **nível de confiança de 95%**, **quanto a pesquisa custaria ao cliente** caso fosse considerada uma **margem de erro de apenas 5%** em relação a média estimada?\n"
      ]
    },
    {
      "cell_type": "markdown",
      "metadata": {
        "id": "m4qMQ4kdKa9W"
      },
      "source": [
        "# <font color='blue'>Solução do item 1</font>"
      ]
    },
    {
      "cell_type": "markdown",
      "metadata": {
        "id": "fNb4Yb3RKa9X"
      },
      "source": [
        "### Seleção de uma amostra aleatório simples\n",
        "\n",
        "#### <font color='red'>Lembre-se de utilizar *random_state = 101*</font>"
      ]
    },
    {
      "cell_type": "code",
      "metadata": {
        "id": "_HxUH0AhKa9X"
      },
      "source": [
        "dataset = dados.Renda.sample(n = 200, random_state = 101)"
      ],
      "execution_count": 28,
      "outputs": []
    },
    {
      "cell_type": "code",
      "metadata": {
        "colab": {
          "base_uri": "https://localhost:8080/"
        },
        "id": "fJBYID7pKa9Z",
        "outputId": "524c85c5-1bb1-43b2-ad6d-7511541772bf"
      },
      "source": [
        "dataset.mean()"
      ],
      "execution_count": 29,
      "outputs": [
        {
          "output_type": "execute_result",
          "data": {
            "text/plain": [
              "1964.205"
            ]
          },
          "metadata": {},
          "execution_count": 29
        }
      ]
    },
    {
      "cell_type": "code",
      "metadata": {
        "colab": {
          "base_uri": "https://localhost:8080/"
        },
        "id": "BXkTyV07Ka9c",
        "outputId": "24ba5e57-9390-4c0a-fd6e-66f15007a15c"
      },
      "source": [
        "dataset.std()"
      ],
      "execution_count": 30,
      "outputs": [
        {
          "output_type": "execute_result",
          "data": {
            "text/plain": [
              "3139.8855167452157"
            ]
          },
          "metadata": {},
          "execution_count": 30
        }
      ]
    },
    {
      "cell_type": "markdown",
      "metadata": {
        "id": "fB8NAJsMKa9f"
      },
      "source": [
        "### Dados do problema"
      ]
    },
    {
      "cell_type": "code",
      "metadata": {
        "id": "daBvAiqbKa9g"
      },
      "source": [
        "media_amostra = dataset.mean()\n",
        "desvio_amostra = dataset.std()\n",
        "recurso = 150000\n",
        "custo_medio = 100"
      ],
      "execution_count": 31,
      "outputs": []
    },
    {
      "cell_type": "markdown",
      "metadata": {
        "id": "waULC4fmKa9i"
      },
      "source": [
        "# <font color='blue'>Solução do item 2</font>"
      ]
    },
    {
      "cell_type": "markdown",
      "metadata": {
        "id": "dIFt1F2AKa9i"
      },
      "source": [
        "### Obtenha a margem de erro\n",
        "\n",
        "#### <font color='red'>Lembre-se que a margem de erro deve estar na mesma unidade da variável que está sendo estudada (R$)</font>"
      ]
    },
    {
      "cell_type": "code",
      "metadata": {
        "colab": {
          "base_uri": "https://localhost:8080/"
        },
        "id": "m5s5DvDuKa9j",
        "outputId": "1e57b1b5-7ab7-4a0f-e936-2ab617fa96f6"
      },
      "source": [
        "e = media_amostra * 0.1\n",
        "print(f'A margem de erro é de R${e:.2f} para mais ou para menos')"
      ],
      "execution_count": 34,
      "outputs": [
        {
          "output_type": "stream",
          "name": "stdout",
          "text": [
            "A margem de erro é de R$196.42 para mais ou para menos\n"
          ]
        }
      ]
    },
    {
      "cell_type": "markdown",
      "metadata": {
        "id": "pLoYC--IKa9l"
      },
      "source": [
        "### Tamanho da amostra ($1 - \\alpha = 90\\%$)"
      ]
    },
    {
      "cell_type": "code",
      "metadata": {
        "colab": {
          "base_uri": "https://localhost:8080/"
        },
        "id": "-BteoZ6JKa9m",
        "outputId": "c40ac059-65c3-4fb1-aa57-b97e567bc92c"
      },
      "source": [
        "(0.9 / 2) + 0.5"
      ],
      "execution_count": 36,
      "outputs": [
        {
          "output_type": "execute_result",
          "data": {
            "text/plain": [
              "0.95"
            ]
          },
          "metadata": {},
          "execution_count": 36
        }
      ]
    },
    {
      "cell_type": "code",
      "metadata": {
        "colab": {
          "base_uri": "https://localhost:8080/"
        },
        "id": "2d8PcF9iKa9o",
        "outputId": "7becc6e0-ae01-4e83-aa9f-567d30c6fc49"
      },
      "source": [
        "z = norm.ppf(0.95)\n",
        "n_90 = (z * (desvio_amostra / e)) ** 2\n",
        "n_90 = int(n_90.round())\n",
        "print(f'Para um nível de confiança de 90% devemos selecionar uma amostra de {n_90} elementos.')"
      ],
      "execution_count": 42,
      "outputs": [
        {
          "output_type": "stream",
          "name": "stdout",
          "text": [
            "Para um nível de confiança de 90% devemos selecionar uma amostra de 691 elementos.\n"
          ]
        }
      ]
    },
    {
      "cell_type": "markdown",
      "metadata": {
        "id": "brh0CpeSKa9q"
      },
      "source": [
        "### Tamanho da amostra ($1 - \\alpha = 95\\%$)"
      ]
    },
    {
      "cell_type": "code",
      "metadata": {
        "colab": {
          "base_uri": "https://localhost:8080/"
        },
        "id": "8NtV47kVKa9q",
        "outputId": "fd4b9bbc-ca51-4cfe-bba2-1276484361f2"
      },
      "source": [
        "(0.95 / 2) + 0.5"
      ],
      "execution_count": 38,
      "outputs": [
        {
          "output_type": "execute_result",
          "data": {
            "text/plain": [
              "0.975"
            ]
          },
          "metadata": {},
          "execution_count": 38
        }
      ]
    },
    {
      "cell_type": "code",
      "metadata": {
        "colab": {
          "base_uri": "https://localhost:8080/"
        },
        "id": "keyN_N8xKa9w",
        "outputId": "4c966c72-2b49-478a-bf65-7874ae687715"
      },
      "source": [
        "z = norm.ppf(0.975)\n",
        "n_95 = (z * (desvio_amostra / e)) ** 2\n",
        "n_95 = int(n_95.round())\n",
        "print(f'Para um nível de confiança de 95% devemos selecionar uma amostra de {n_95} elementos.')"
      ],
      "execution_count": 45,
      "outputs": [
        {
          "output_type": "stream",
          "name": "stdout",
          "text": [
            "Para um nível de confiança de 95% devemos selecionar uma amostra de 982 elementos.\n"
          ]
        }
      ]
    },
    {
      "cell_type": "markdown",
      "metadata": {
        "id": "rAEX9_qFKa9y"
      },
      "source": [
        "### Tamanho da amostra ($1 - \\alpha = 99\\%$)"
      ]
    },
    {
      "cell_type": "code",
      "metadata": {
        "colab": {
          "base_uri": "https://localhost:8080/"
        },
        "id": "dvFHNFsLKa9y",
        "outputId": "e196f165-836e-4aa7-a754-7dd0b734e430"
      },
      "source": [
        "(0.99 / 2) + 0.5"
      ],
      "execution_count": 40,
      "outputs": [
        {
          "output_type": "execute_result",
          "data": {
            "text/plain": [
              "0.995"
            ]
          },
          "metadata": {},
          "execution_count": 40
        }
      ]
    },
    {
      "cell_type": "code",
      "metadata": {
        "colab": {
          "base_uri": "https://localhost:8080/"
        },
        "id": "eTCtwDw_Ka90",
        "outputId": "4b47dfa2-1fcd-4c42-ea97-934303dc3008"
      },
      "source": [
        "z = norm.ppf(0.995)\n",
        "n_99 = (z * (desvio_amostra / e)) ** 2\n",
        "n_99 = int(n_99.round())\n",
        "print(f'Para um nível de confiança de 99% devemos selecionar uma amostra de {n_99} elementos.')"
      ],
      "execution_count": 46,
      "outputs": [
        {
          "output_type": "stream",
          "name": "stdout",
          "text": [
            "Para um nível de confiança de 99% devemos selecionar uma amostra de 1695 elementos.\n"
          ]
        }
      ]
    },
    {
      "cell_type": "markdown",
      "metadata": {
        "id": "n3dILIrGKa93"
      },
      "source": [
        "# <font color='blue'>Solução do item 3</font>"
      ]
    },
    {
      "cell_type": "markdown",
      "metadata": {
        "id": "SzkxkOB6Ka93"
      },
      "source": [
        "### Custo da pesquisa para o nível de confiança de 90%"
      ]
    },
    {
      "cell_type": "code",
      "metadata": {
        "colab": {
          "base_uri": "https://localhost:8080/"
        },
        "id": "j_0BpUBMKa95",
        "outputId": "76fea9a5-9f67-41c0-ecb5-9aec2238ed94"
      },
      "source": [
        "custo_pesquisa_90 = n_90 * custo_medio\n",
        "print(f'Para fazer uma pesquisa com 90% de confiança o custo estimado é de R${custo_pesquisa_90:.2f}')"
      ],
      "execution_count": 48,
      "outputs": [
        {
          "output_type": "stream",
          "name": "stdout",
          "text": [
            "Para fazer uma pesquisa com 90% de confiança o custo é de R$69100.00\n"
          ]
        }
      ]
    },
    {
      "cell_type": "markdown",
      "metadata": {
        "id": "DdoUIGXkKa97"
      },
      "source": [
        "### Custo da pesquisa para o nível de confiança de 95%"
      ]
    },
    {
      "cell_type": "code",
      "metadata": {
        "colab": {
          "base_uri": "https://localhost:8080/"
        },
        "id": "R4YQV7_EKa97",
        "outputId": "c37e730a-440e-4baf-b87a-b5d160ab2e94"
      },
      "source": [
        "custo_pesquisa_95 = n_95 * custo_medio\n",
        "print(f'Para fazer uma pesquisa com 95% de confiança o custo estimado é de R${custo_pesquisa_95:.2f}')"
      ],
      "execution_count": 49,
      "outputs": [
        {
          "output_type": "stream",
          "name": "stdout",
          "text": [
            "Para fazer uma pesquisa com 95% de confiança o custo é de R$98200.00\n"
          ]
        }
      ]
    },
    {
      "cell_type": "markdown",
      "metadata": {
        "id": "f4SppXkOKa9-"
      },
      "source": [
        "### Custo da pesquisa para o nível de confiança de 99%"
      ]
    },
    {
      "cell_type": "code",
      "metadata": {
        "colab": {
          "base_uri": "https://localhost:8080/"
        },
        "id": "7fZucTJIKa9-",
        "outputId": "996e1632-2e40-4d60-b7b6-adea99572392"
      },
      "source": [
        "custo_pesquisa_99 = n_99 * custo_medio\n",
        "print(f'Para fazer uma pesquisa com 99% de confiança o custo estimado é de R${custo_pesquisa_99:.2f}')"
      ],
      "execution_count": 50,
      "outputs": [
        {
          "output_type": "stream",
          "name": "stdout",
          "text": [
            "Para fazer uma pesquisa com 99% de confiança o custo é de R$169500.00\n"
          ]
        }
      ]
    },
    {
      "cell_type": "markdown",
      "metadata": {
        "id": "0HVhFFfMKa-A"
      },
      "source": [
        "# <font color='blue'>Solução do item 4</font>"
      ]
    },
    {
      "cell_type": "code",
      "metadata": {
        "colab": {
          "base_uri": "https://localhost:8080/"
        },
        "id": "uTePzAGQKa-B",
        "outputId": "3dd7e8a7-a3af-4338-fac3-2fd1e28624cc"
      },
      "source": [
        "intervalo = norm.interval(alpha = 0.95, loc = media_amostra, scale = (desvio_amostra / np.sqrt(n_95)))\n",
        "intervalo"
      ],
      "execution_count": 53,
      "outputs": [
        {
          "output_type": "execute_result",
          "data": {
            "text/plain": [
              "(1767.820973280509, 2160.589026719491)"
            ]
          },
          "metadata": {},
          "execution_count": 53
        }
      ]
    },
    {
      "cell_type": "markdown",
      "metadata": {
        "id": "n8uxkOcPKa-D"
      },
      "source": [
        "# <font color='blue'>Solução do item 5</font>"
      ]
    },
    {
      "cell_type": "code",
      "metadata": {
        "colab": {
          "base_uri": "https://localhost:8080/"
        },
        "id": "AaGOyW4pKa-E",
        "outputId": "003d61e1-f04f-4296-c00c-bed2f2673b2e"
      },
      "source": [
        "n_95 = recurso / custo_medio\n",
        "n_95"
      ],
      "execution_count": 54,
      "outputs": [
        {
          "output_type": "execute_result",
          "data": {
            "text/plain": [
              "1500.0"
            ]
          },
          "metadata": {},
          "execution_count": 54
        }
      ]
    },
    {
      "cell_type": "code",
      "metadata": {
        "colab": {
          "base_uri": "https://localhost:8080/"
        },
        "id": "31angNvBKa-G",
        "outputId": "1974dc18-8dc9-476c-e233-12957a3b56a6"
      },
      "source": [
        "z = norm.ppf(0.975)\n",
        "e = z * (desvio_amostra / np.sqrt(n_95))\n",
        "e"
      ],
      "execution_count": 55,
      "outputs": [
        {
          "output_type": "execute_result",
          "data": {
            "text/plain": [
              "158.89721122673737"
            ]
          },
          "metadata": {},
          "execution_count": 55
        }
      ]
    },
    {
      "cell_type": "code",
      "metadata": {
        "colab": {
          "base_uri": "https://localhost:8080/"
        },
        "id": "SMIRTmytKa-I",
        "outputId": "27711b1b-e4e7-4e30-e3ce-c020f8c53bfc"
      },
      "source": [
        "e_percentual = (e / media_amostra) * 100\n",
        "print(f'A nova margem de erro é {e_percentual:.2f}%.')"
      ],
      "execution_count": 59,
      "outputs": [
        {
          "output_type": "stream",
          "name": "stdout",
          "text": [
            "A nova margem de erro é 8.09%.\n"
          ]
        }
      ]
    },
    {
      "cell_type": "markdown",
      "metadata": {
        "id": "ood3yi8mKa-K"
      },
      "source": [
        "# <font color='blue'>Solução do item 6</font>"
      ]
    },
    {
      "cell_type": "code",
      "metadata": {
        "colab": {
          "base_uri": "https://localhost:8080/"
        },
        "id": "U0f55DxHKa-K",
        "outputId": "2d049e1f-8797-435d-f077-9e231642f8e4"
      },
      "source": [
        "e = 0.05 * media_amostra\n",
        "print(f'A margem de erro é de R$ {e:.2f} para mais ou para menos')"
      ],
      "execution_count": 61,
      "outputs": [
        {
          "output_type": "stream",
          "name": "stdout",
          "text": [
            "A margem de erro é de R$ 98.21 para mais ou para menos\n"
          ]
        }
      ]
    },
    {
      "cell_type": "code",
      "metadata": {
        "colab": {
          "base_uri": "https://localhost:8080/"
        },
        "id": "PDt0rtCZKa-M",
        "outputId": "8f6dffbf-0d8a-460f-8819-d1c9029d9e2a"
      },
      "source": [
        "z = norm.ppf(0.975)\n",
        "n_95 = (z * (desvio_amostra / e)) ** 2\n",
        "n_95 = int(n_95.round())\n",
        "print(f'Para um nível de confiança de 95% devemos selecionar uma amostra de {n_95} elementos.')"
      ],
      "execution_count": 62,
      "outputs": [
        {
          "output_type": "stream",
          "name": "stdout",
          "text": [
            "Para um nível de confiança de 95% devemos selecionar uma amostra de 3927 elementos.\n"
          ]
        }
      ]
    },
    {
      "cell_type": "code",
      "metadata": {
        "colab": {
          "base_uri": "https://localhost:8080/"
        },
        "id": "c81OsbN1Ka-R",
        "outputId": "ccf5b795-db55-4348-f142-2b5aa947ec35"
      },
      "source": [
        "custo_pesquisa_95 = n_95 * custo_medio\n",
        "print(f'Para fazer uma pesquisa com 95% de confiança o custo estimado é de R${custo_pesquisa_95:.2f}')"
      ],
      "execution_count": 63,
      "outputs": [
        {
          "output_type": "stream",
          "name": "stdout",
          "text": [
            "Para fazer uma pesquisa com 95% de confiança o custo estimado é de R$392700.00\n"
          ]
        }
      ]
    },
    {
      "cell_type": "code",
      "metadata": {
        "id": "emcgxVCIKa-T"
      },
      "source": [
        ""
      ],
      "execution_count": null,
      "outputs": []
    }
  ]
}