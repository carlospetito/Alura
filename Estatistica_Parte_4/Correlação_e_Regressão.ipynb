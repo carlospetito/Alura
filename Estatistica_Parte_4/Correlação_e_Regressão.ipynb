{
  "nbformat": 4,
  "nbformat_minor": 0,
  "metadata": {
    "colab": {
      "name": "Correlação_e_Regressão.ipynb",
      "provenance": [],
      "include_colab_link": true
    },
    "kernelspec": {
      "display_name": "Python 3",
      "language": "python",
      "name": "python3"
    },
    "language_info": {
      "codemirror_mode": {
        "name": "ipython",
        "version": 3
      },
      "file_extension": ".py",
      "mimetype": "text/x-python",
      "name": "python",
      "nbconvert_exporter": "python",
      "pygments_lexer": "ipython3",
      "version": "3.6.5"
    }
  },
  "cells": [
    {
      "cell_type": "markdown",
      "metadata": {
        "id": "view-in-github",
        "colab_type": "text"
      },
      "source": [
        "<a href=\"https://colab.research.google.com/github/carlospetito/Alura/blob/main/Estatistica_Parte_4/Correla%C3%A7%C3%A3o_e_Regress%C3%A3o.ipynb\" target=\"_parent\"><img src=\"https://colab.research.google.com/assets/colab-badge.svg\" alt=\"Open In Colab\"/></a>"
      ]
    },
    {
      "cell_type": "markdown",
      "metadata": {
        "id": "WvMflodMjQKe"
      },
      "source": [
        "# <font color=green size=10>CURSO DE ESTATÍSTICA - PARTE 4</font>\n",
        "***\n",
        "\n",
        "## Trabalho sobre correlação e regressão\n",
        "\n",
        "Utilizando os conhecimentos adquiridos em nosso treinamento realize a análise de regressão proposta abaixo.\n",
        "\n",
        "Siga o roteiro proposto e vá completando as células vazias."
      ]
    },
    {
      "cell_type": "markdown",
      "metadata": {
        "id": "cVgsZ_E3jQKg"
      },
      "source": [
        "# <font color=green>DATASET DO PROJETO</font>\n",
        "***"
      ]
    },
    {
      "cell_type": "markdown",
      "metadata": {
        "id": "Ws2zOjRQSAMx"
      },
      "source": [
        "### Fonte: https://www.kaggle.com/dongeorge/beer-consumption-sao-paulo\n",
        "\n",
        "### Descrição:\n",
        "A cerveja é uma das bebidas mais democráticas e consumidas no mundo. Não sem razão, é perfeito para quase todas as situações, desde o happy hour até grandes festas de casamento.\n",
        "\n",
        "Os dados (amostra) foram coletados em São Paulo - Brasil, em uma área universitária, onde existem algumas festas com grupos de alunos de 18 a 28 anos de idade (média).\n",
        "\n",
        "### Dados:\n",
        "- **temp_media** - Temperatura Média (°C)\n",
        "- **consumo** - Consumo de Cerveja (litros)\n"
      ]
    },
    {
      "cell_type": "markdown",
      "metadata": {
        "id": "ZIqLOffNTg1Y"
      },
      "source": [
        "---"
      ]
    },
    {
      "cell_type": "markdown",
      "metadata": {
        "id": "_mFnZ15pcmu1"
      },
      "source": [
        "### Solução do problema com dependência do statsmodels"
      ]
    },
    {
      "cell_type": "code",
      "metadata": {
        "colab": {
          "base_uri": "https://localhost:8080/"
        },
        "id": "m5QYUoH4cnp1",
        "outputId": "1de19672-4238-47aa-c9bc-e111b40a4395"
      },
      "source": [
        "!pip install scipy==1.2 --upgrade"
      ],
      "execution_count": 1,
      "outputs": [
        {
          "output_type": "stream",
          "name": "stdout",
          "text": [
            "Collecting scipy==1.2\n",
            "  Downloading scipy-1.2.0-cp37-cp37m-manylinux1_x86_64.whl (26.6 MB)\n",
            "\u001b[K     |████████████████████████████████| 26.6 MB 1.8 MB/s \n",
            "\u001b[?25hRequirement already satisfied: numpy>=1.8.2 in /usr/local/lib/python3.7/dist-packages (from scipy==1.2) (1.19.5)\n",
            "Installing collected packages: scipy\n",
            "  Attempting uninstall: scipy\n",
            "    Found existing installation: scipy 1.4.1\n",
            "    Uninstalling scipy-1.4.1:\n",
            "      Successfully uninstalled scipy-1.4.1\n",
            "\u001b[31mERROR: pip's dependency resolver does not currently take into account all the packages that are installed. This behaviour is the source of the following dependency conflicts.\n",
            "jax 0.2.25 requires scipy>=1.2.1, but you have scipy 1.2.0 which is incompatible.\n",
            "albumentations 0.1.12 requires imgaug<0.2.7,>=0.2.5, but you have imgaug 0.2.9 which is incompatible.\u001b[0m\n",
            "Successfully installed scipy-1.2.0\n"
          ]
        }
      ]
    },
    {
      "cell_type": "markdown",
      "metadata": {
        "id": "8Rw70V6ojQKk"
      },
      "source": [
        "### Utilize a célula abaixo para importar as biblioteca que precisar para executar as tarefas\n",
        "#### <font color='red'>Sugestões: pandas, numpy, scipy, statsmodels</font>"
      ]
    },
    {
      "cell_type": "code",
      "metadata": {
        "colab": {
          "base_uri": "https://localhost:8080/"
        },
        "id": "fcTgimHBybMz",
        "outputId": "497d33ee-5a52-4f72-d74a-ec6bdef503d0"
      },
      "source": [
        "import pandas as pd\n",
        "import numpy as np\n",
        "import seaborn as sns\n",
        "import statsmodels.api as sm\n",
        "from scipy.stats import probplot\n",
        "import matplotlib.pyplot as plt"
      ],
      "execution_count": 17,
      "outputs": [
        {
          "output_type": "stream",
          "name": "stderr",
          "text": [
            "/usr/local/lib/python3.7/dist-packages/statsmodels/tools/_testing.py:19: FutureWarning: pandas.util.testing is deprecated. Use the functions in the public API at pandas.testing instead.\n",
            "  import pandas.util.testing as tm\n"
          ]
        }
      ]
    },
    {
      "cell_type": "markdown",
      "metadata": {
        "id": "aMnktfVNSAM6"
      },
      "source": [
        "### Importe o dataset"
      ]
    },
    {
      "cell_type": "code",
      "metadata": {
        "id": "MCvj5wZESAM7"
      },
      "source": [
        "dados = pd.read_csv('dados_projeto.csv', sep = ';')"
      ],
      "execution_count": 22,
      "outputs": []
    },
    {
      "cell_type": "markdown",
      "metadata": {
        "id": "Oq3CKHCmTg1j"
      },
      "source": [
        "### Visualize o conteúdo do DataFrame"
      ]
    },
    {
      "cell_type": "code",
      "metadata": {
        "colab": {
          "base_uri": "https://localhost:8080/"
        },
        "id": "ZJhWgKumSAM-",
        "outputId": "703cfc08-fcd6-45db-bd4e-2dddb49aac5a"
      },
      "source": [
        "dados.shape"
      ],
      "execution_count": 25,
      "outputs": [
        {
          "output_type": "execute_result",
          "data": {
            "text/plain": [
              "(365, 2)"
            ]
          },
          "metadata": {},
          "execution_count": 25
        }
      ]
    },
    {
      "cell_type": "code",
      "metadata": {
        "colab": {
          "base_uri": "https://localhost:8080/",
          "height": 202
        },
        "id": "GsC_WhLFjQKq",
        "scrolled": true,
        "outputId": "63a35d76-ce2b-4935-aa83-6d86c9e3c275"
      },
      "source": [
        "dados.head()"
      ],
      "execution_count": 24,
      "outputs": [
        {
          "output_type": "execute_result",
          "data": {
            "text/html": [
              "<div>\n",
              "<style scoped>\n",
              "    .dataframe tbody tr th:only-of-type {\n",
              "        vertical-align: middle;\n",
              "    }\n",
              "\n",
              "    .dataframe tbody tr th {\n",
              "        vertical-align: top;\n",
              "    }\n",
              "\n",
              "    .dataframe thead th {\n",
              "        text-align: right;\n",
              "    }\n",
              "</style>\n",
              "<table border=\"1\" class=\"dataframe\">\n",
              "  <thead>\n",
              "    <tr style=\"text-align: right;\">\n",
              "      <th></th>\n",
              "      <th>Y</th>\n",
              "      <th>X</th>\n",
              "    </tr>\n",
              "  </thead>\n",
              "  <tbody>\n",
              "    <tr>\n",
              "      <th>0</th>\n",
              "      <td>25461</td>\n",
              "      <td>27.30</td>\n",
              "    </tr>\n",
              "    <tr>\n",
              "      <th>1</th>\n",
              "      <td>28972</td>\n",
              "      <td>27.02</td>\n",
              "    </tr>\n",
              "    <tr>\n",
              "      <th>2</th>\n",
              "      <td>30814</td>\n",
              "      <td>24.82</td>\n",
              "    </tr>\n",
              "    <tr>\n",
              "      <th>3</th>\n",
              "      <td>29799</td>\n",
              "      <td>23.98</td>\n",
              "    </tr>\n",
              "    <tr>\n",
              "      <th>4</th>\n",
              "      <td>28900</td>\n",
              "      <td>23.82</td>\n",
              "    </tr>\n",
              "  </tbody>\n",
              "</table>\n",
              "</div>"
            ],
            "text/plain": [
              "       Y      X\n",
              "0  25461  27.30\n",
              "1  28972  27.02\n",
              "2  30814  24.82\n",
              "3  29799  23.98\n",
              "4  28900  23.82"
            ]
          },
          "metadata": {},
          "execution_count": 24
        }
      ]
    },
    {
      "cell_type": "markdown",
      "metadata": {
        "id": "xzGuwM4xpslc"
      },
      "source": [
        "### Obtenha e avalie as estatísticas descritivas dos dados"
      ]
    },
    {
      "cell_type": "code",
      "metadata": {
        "colab": {
          "base_uri": "https://localhost:8080/",
          "height": 294
        },
        "id": "nuNSrzfYpsld",
        "scrolled": true,
        "outputId": "a1134870-d441-42ed-de2b-6e7322ee4b46"
      },
      "source": [
        "dados.describe()"
      ],
      "execution_count": 26,
      "outputs": [
        {
          "output_type": "execute_result",
          "data": {
            "text/html": [
              "<div>\n",
              "<style scoped>\n",
              "    .dataframe tbody tr th:only-of-type {\n",
              "        vertical-align: middle;\n",
              "    }\n",
              "\n",
              "    .dataframe tbody tr th {\n",
              "        vertical-align: top;\n",
              "    }\n",
              "\n",
              "    .dataframe thead th {\n",
              "        text-align: right;\n",
              "    }\n",
              "</style>\n",
              "<table border=\"1\" class=\"dataframe\">\n",
              "  <thead>\n",
              "    <tr style=\"text-align: right;\">\n",
              "      <th></th>\n",
              "      <th>Y</th>\n",
              "      <th>X</th>\n",
              "    </tr>\n",
              "  </thead>\n",
              "  <tbody>\n",
              "    <tr>\n",
              "      <th>count</th>\n",
              "      <td>365.000000</td>\n",
              "      <td>365.000000</td>\n",
              "    </tr>\n",
              "    <tr>\n",
              "      <th>mean</th>\n",
              "      <td>25401.367123</td>\n",
              "      <td>21.226356</td>\n",
              "    </tr>\n",
              "    <tr>\n",
              "      <th>std</th>\n",
              "      <td>4399.142703</td>\n",
              "      <td>3.180108</td>\n",
              "    </tr>\n",
              "    <tr>\n",
              "      <th>min</th>\n",
              "      <td>14343.000000</td>\n",
              "      <td>12.900000</td>\n",
              "    </tr>\n",
              "    <tr>\n",
              "      <th>25%</th>\n",
              "      <td>22008.000000</td>\n",
              "      <td>19.020000</td>\n",
              "    </tr>\n",
              "    <tr>\n",
              "      <th>50%</th>\n",
              "      <td>24867.000000</td>\n",
              "      <td>21.380000</td>\n",
              "    </tr>\n",
              "    <tr>\n",
              "      <th>75%</th>\n",
              "      <td>28631.000000</td>\n",
              "      <td>23.280000</td>\n",
              "    </tr>\n",
              "    <tr>\n",
              "      <th>max</th>\n",
              "      <td>37937.000000</td>\n",
              "      <td>28.860000</td>\n",
              "    </tr>\n",
              "  </tbody>\n",
              "</table>\n",
              "</div>"
            ],
            "text/plain": [
              "                  Y           X\n",
              "count    365.000000  365.000000\n",
              "mean   25401.367123   21.226356\n",
              "std     4399.142703    3.180108\n",
              "min    14343.000000   12.900000\n",
              "25%    22008.000000   19.020000\n",
              "50%    24867.000000   21.380000\n",
              "75%    28631.000000   23.280000\n",
              "max    37937.000000   28.860000"
            ]
          },
          "metadata": {},
          "execution_count": 26
        }
      ]
    },
    {
      "cell_type": "markdown",
      "metadata": {
        "id": "LczcEkfvSANG"
      },
      "source": [
        "### Análise gráfica\n",
        "### Construa um box plot para cada variável do dataset"
      ]
    },
    {
      "cell_type": "code",
      "metadata": {
        "colab": {
          "base_uri": "https://localhost:8080/",
          "height": 426
        },
        "id": "C8jMWsOQSANH",
        "outputId": "3d2feb7f-dd67-4ab3-b39f-2903bf70f45a"
      },
      "source": [
        "ax = sns.boxplot(data=dados, x = 'Y', orient='h', width=0.5)\n",
        "ax.figure.set_size_inches(12, 6)\n",
        "ax.set_title('Box plot', fontsize=14)\n",
        "ax.set_xlabel('Consumo de Cerveja (litros)', fontsize=14)\n",
        "ax"
      ],
      "execution_count": 32,
      "outputs": [
        {
          "output_type": "execute_result",
          "data": {
            "text/plain": [
              "<matplotlib.axes._subplots.AxesSubplot at 0x7f60d892c710>"
            ]
          },
          "metadata": {},
          "execution_count": 32
        },
        {
          "output_type": "display_data",
          "data": {
            "image/png": "[encoded data removed]",
            "text/plain": [
              "<Figure size 864x432 with 1 Axes>"
            ]
          },
          "metadata": {
            "needs_background": "light"
          }
        }
      ]
    },
    {
      "cell_type": "code",
      "metadata": {
        "colab": {
          "base_uri": "https://localhost:8080/",
          "height": 427
        },
        "id": "W-W9IOs1psle",
        "scrolled": false,
        "outputId": "2522eb93-2d5e-4925-c0a2-45835ca4d13a"
      },
      "source": [
        "ax = sns.boxplot(data=dados, x = 'X', orient='h', width=0.5)\n",
        "ax.figure.set_size_inches(12, 6)\n",
        "ax.set_title('Box plot', fontsize=14)\n",
        "ax.set_xlabel('Temperatura Média (°C)', fontsize=14)\n",
        "ax"
      ],
      "execution_count": 34,
      "outputs": [
        {
          "output_type": "execute_result",
          "data": {
            "text/plain": [
              "<matplotlib.axes._subplots.AxesSubplot at 0x7f60d88178d0>"
            ]
          },
          "metadata": {},
          "execution_count": 34
        },
        {
          "output_type": "display_data",
          "data": {
            "image/png": "[encoded data removed]",
            "text/plain": [
              "<Figure size 864x432 with 1 Axes>"
            ]
          },
          "metadata": {
            "needs_background": "light"
          }
        }
      ]
    },
    {
      "cell_type": "markdown",
      "metadata": {
        "id": "50QnbpklSANL"
      },
      "source": [
        "### Identifique se existe uma relação linear entre as variáveis $Y$ e $X$\n",
        "### <font color='red'>Utilizando o método gráfico</font>"
      ]
    },
    {
      "cell_type": "code",
      "metadata": {
        "colab": {
          "base_uri": "https://localhost:8080/",
          "height": 474
        },
        "id": "wqXot5qXSANM",
        "outputId": "0f56b9c7-1c5f-4a32-a53c-f13bdadc109d"
      },
      "source": [
        "ax = sns.lmplot(x='X', y='Y', data=dados)\n",
        "ax.fig.set_size_inches(12, 6)\n",
        "ax.fig.suptitle('Reta de Regressão - Consumo X Temperatura', fontsize=16, y=1.02)\n",
        "ax.set_xlabels('Temperatura Média (°C)', fontsize=14)\n",
        "ax.set_ylabels('Consumo de Cerveja (litros)', fontsize=14)\n",
        "ax"
      ],
      "execution_count": 36,
      "outputs": [
        {
          "output_type": "execute_result",
          "data": {
            "text/plain": [
              "<seaborn.axisgrid.FacetGrid at 0x7f60d8782950>"
            ]
          },
          "metadata": {},
          "execution_count": 36
        },
        {
          "output_type": "display_data",
          "data": {
            "image/png": "[encoded data removed]",
            "text/plain": [
              "<Figure size 864x432 with 1 Axes>"
            ]
          },
          "metadata": {
            "needs_background": "light"
          }
        }
      ]
    },
    {
      "cell_type": "markdown",
      "metadata": {
        "id": "2_anjW2BSANO"
      },
      "source": [
        "### <font color='red'>Utilizando a matriz de correlação</font>"
      ]
    },
    {
      "cell_type": "code",
      "metadata": {
        "colab": {
          "base_uri": "https://localhost:8080/",
          "height": 110
        },
        "id": "i3km2z7xSANP",
        "outputId": "8e56a7fa-9c0c-4c51-bc2a-0106ee5c5271"
      },
      "source": [
        "dados.corr()"
      ],
      "execution_count": 38,
      "outputs": [
        {
          "output_type": "execute_result",
          "data": {
            "text/html": [
              "<div>\n",
              "<style scoped>\n",
              "    .dataframe tbody tr th:only-of-type {\n",
              "        vertical-align: middle;\n",
              "    }\n",
              "\n",
              "    .dataframe tbody tr th {\n",
              "        vertical-align: top;\n",
              "    }\n",
              "\n",
              "    .dataframe thead th {\n",
              "        text-align: right;\n",
              "    }\n",
              "</style>\n",
              "<table border=\"1\" class=\"dataframe\">\n",
              "  <thead>\n",
              "    <tr style=\"text-align: right;\">\n",
              "      <th></th>\n",
              "      <th>Y</th>\n",
              "      <th>X</th>\n",
              "    </tr>\n",
              "  </thead>\n",
              "  <tbody>\n",
              "    <tr>\n",
              "      <th>Y</th>\n",
              "      <td>1.000000</td>\n",
              "      <td>0.574615</td>\n",
              "    </tr>\n",
              "    <tr>\n",
              "      <th>X</th>\n",
              "      <td>0.574615</td>\n",
              "      <td>1.000000</td>\n",
              "    </tr>\n",
              "  </tbody>\n",
              "</table>\n",
              "</div>"
            ],
            "text/plain": [
              "          Y         X\n",
              "Y  1.000000  0.574615\n",
              "X  0.574615  1.000000"
            ]
          },
          "metadata": {},
          "execution_count": 38
        }
      ]
    },
    {
      "cell_type": "markdown",
      "metadata": {
        "id": "g2jJuDkcSANR"
      },
      "source": [
        "### Avalie os resultados acima:\n",
        "\n",
        "É possível afirmar que existe uma relação linear entre as variáveis?\n",
        "\n",
        "Resp.: Sim\n",
        "\n",
        "É possível quantificar a intensidade dessa relação?\n",
        "\n",
        "Resp.: Sim, pelo coeficiente de correlação \n",
        "\n",
        "É possível afirmar que existe uma relação de causalidade entre $Y$ e $X$ a partir dos resultados da matriz de correlação?\n",
        "\n",
        "Resp.: Não"
      ]
    },
    {
      "cell_type": "markdown",
      "metadata": {
        "id": "gEsWvZadSANR"
      },
      "source": [
        "### Prepare os dados para estimar um modelo de regressão linear simples"
      ]
    },
    {
      "cell_type": "code",
      "metadata": {
        "id": "GNfHZd61SANS"
      },
      "source": [
        "Y = dados.Y\n",
        "X = sm.add_constant(dados.X)"
      ],
      "execution_count": 39,
      "outputs": []
    },
    {
      "cell_type": "markdown",
      "metadata": {
        "id": "Nv3vKKw1SANU"
      },
      "source": [
        "### Estime o modelo de regressão linear simples"
      ]
    },
    {
      "cell_type": "code",
      "metadata": {
        "id": "cClocJuhSANV"
      },
      "source": [
        "resultado_regressao = sm.OLS(Y, X, missing='drop').fit()"
      ],
      "execution_count": 40,
      "outputs": []
    },
    {
      "cell_type": "markdown",
      "metadata": {
        "id": "m_ZuWl06SANX"
      },
      "source": [
        "### Visualize o resultado da regressão"
      ]
    },
    {
      "cell_type": "code",
      "metadata": {
        "colab": {
          "base_uri": "https://localhost:8080/"
        },
        "id": "VqibulU4SANX",
        "outputId": "b8f003bc-7d3e-4630-8f2d-449005442e93"
      },
      "source": [
        "print(resultado_regressao.summary())"
      ],
      "execution_count": 44,
      "outputs": [
        {
          "output_type": "stream",
          "name": "stdout",
          "text": [
            "                            OLS Regression Results                            \n",
            "==============================================================================\n",
            "Dep. Variable:                      Y   R-squared:                       0.330\n",
            "Model:                            OLS   Adj. R-squared:                  0.328\n",
            "Method:                 Least Squares   F-statistic:                     178.9\n",
            "Date:                Sat, 04 Dec 2021   Prob (F-statistic):           1.87e-33\n",
            "Time:                        01:13:59   Log-Likelihood:                -3506.3\n",
            "No. Observations:                 365   AIC:                             7017.\n",
            "Df Residuals:                     363   BIC:                             7024.\n",
            "Df Model:                           1                                         \n",
            "Covariance Type:            nonrobust                                         \n",
            "==============================================================================\n",
            "                 coef    std err          t      P>|t|      [0.025      0.975]\n",
            "------------------------------------------------------------------------------\n",
            "const       8528.9073   1275.363      6.687      0.000    6020.880     1.1e+04\n",
            "X            794.8825     59.423     13.377      0.000     678.027     911.738\n",
            "==============================================================================\n",
            "Omnibus:                       11.300   Durbin-Watson:                   1.623\n",
            "Prob(Omnibus):                  0.004   Jarque-Bera (JB):                9.673\n",
            "Skew:                           0.324   Prob(JB):                      0.00793\n",
            "Kurtosis:                       2.534   Cond. No.                         145.\n",
            "==============================================================================\n",
            "\n",
            "Warnings:\n",
            "[1] Standard Errors assume that the covariance matrix of the errors is correctly specified.\n"
          ]
        }
      ]
    },
    {
      "cell_type": "markdown",
      "metadata": {
        "id": "a0am29ySSANZ"
      },
      "source": [
        "### Obtenha o $Y$ previsto"
      ]
    },
    {
      "cell_type": "code",
      "metadata": {
        "colab": {
          "base_uri": "https://localhost:8080/",
          "height": 202
        },
        "id": "UY1SAjYvSANa",
        "scrolled": true,
        "outputId": "cd9853d3-188e-4c06-952c-6e6c5116ac01"
      },
      "source": [
        "dados['Y_previsto'] = resultado_regressao.predict()\n",
        "dados.head()"
      ],
      "execution_count": 45,
      "outputs": [
        {
          "output_type": "execute_result",
          "data": {
            "text/html": [
              "<div>\n",
              "<style scoped>\n",
              "    .dataframe tbody tr th:only-of-type {\n",
              "        vertical-align: middle;\n",
              "    }\n",
              "\n",
              "    .dataframe tbody tr th {\n",
              "        vertical-align: top;\n",
              "    }\n",
              "\n",
              "    .dataframe thead th {\n",
              "        text-align: right;\n",
              "    }\n",
              "</style>\n",
              "<table border=\"1\" class=\"dataframe\">\n",
              "  <thead>\n",
              "    <tr style=\"text-align: right;\">\n",
              "      <th></th>\n",
              "      <th>Y</th>\n",
              "      <th>X</th>\n",
              "      <th>Y_previsto</th>\n",
              "    </tr>\n",
              "  </thead>\n",
              "  <tbody>\n",
              "    <tr>\n",
              "      <th>0</th>\n",
              "      <td>25461</td>\n",
              "      <td>27.30</td>\n",
              "      <td>30229.200544</td>\n",
              "    </tr>\n",
              "    <tr>\n",
              "      <th>1</th>\n",
              "      <td>28972</td>\n",
              "      <td>27.02</td>\n",
              "      <td>30006.633434</td>\n",
              "    </tr>\n",
              "    <tr>\n",
              "      <th>2</th>\n",
              "      <td>30814</td>\n",
              "      <td>24.82</td>\n",
              "      <td>28257.891852</td>\n",
              "    </tr>\n",
              "    <tr>\n",
              "      <th>3</th>\n",
              "      <td>29799</td>\n",
              "      <td>23.98</td>\n",
              "      <td>27590.190521</td>\n",
              "    </tr>\n",
              "    <tr>\n",
              "      <th>4</th>\n",
              "      <td>28900</td>\n",
              "      <td>23.82</td>\n",
              "      <td>27463.009315</td>\n",
              "    </tr>\n",
              "  </tbody>\n",
              "</table>\n",
              "</div>"
            ],
            "text/plain": [
              "       Y      X    Y_previsto\n",
              "0  25461  27.30  30229.200544\n",
              "1  28972  27.02  30006.633434\n",
              "2  30814  24.82  28257.891852\n",
              "3  29799  23.98  27590.190521\n",
              "4  28900  23.82  27463.009315"
            ]
          },
          "metadata": {},
          "execution_count": 45
        }
      ]
    },
    {
      "cell_type": "markdown",
      "metadata": {
        "id": "fjTiK_79SANc"
      },
      "source": [
        "### Utilizando nosso modelo estimado para fazer previsões.\n",
        "### Qual seria o consumo de cerveja para um dia com temperatura média de 42° C?"
      ]
    },
    {
      "cell_type": "code",
      "metadata": {
        "colab": {
          "base_uri": "https://localhost:8080/"
        },
        "id": "2GoPyfauSANc",
        "outputId": "12409a03-a8f3-4259-eaf9-04edf30a9a89"
      },
      "source": [
        "resultado_regressao.predict([1, 42])[0].round(2)"
      ],
      "execution_count": 49,
      "outputs": [
        {
          "output_type": "execute_result",
          "data": {
            "text/plain": [
              "41913.97"
            ]
          },
          "metadata": {},
          "execution_count": 49
        }
      ]
    },
    {
      "cell_type": "markdown",
      "metadata": {
        "id": "ERs5LDWoSANf"
      },
      "source": [
        "### Obtenha os resíduos da regressão"
      ]
    },
    {
      "cell_type": "code",
      "metadata": {
        "colab": {
          "base_uri": "https://localhost:8080/",
          "height": 202
        },
        "id": "5Mfi4sFBSANg",
        "outputId": "c3fc523a-1a4e-4895-8fe7-3563aa78760b"
      },
      "source": [
        "dados['Residuos'] = resultado_regressao.resid\n",
        "dados.head()"
      ],
      "execution_count": 50,
      "outputs": [
        {
          "output_type": "execute_result",
          "data": {
            "text/html": [
              "<div>\n",
              "<style scoped>\n",
              "    .dataframe tbody tr th:only-of-type {\n",
              "        vertical-align: middle;\n",
              "    }\n",
              "\n",
              "    .dataframe tbody tr th {\n",
              "        vertical-align: top;\n",
              "    }\n",
              "\n",
              "    .dataframe thead th {\n",
              "        text-align: right;\n",
              "    }\n",
              "</style>\n",
              "<table border=\"1\" class=\"dataframe\">\n",
              "  <thead>\n",
              "    <tr style=\"text-align: right;\">\n",
              "      <th></th>\n",
              "      <th>Y</th>\n",
              "      <th>X</th>\n",
              "      <th>Y_previsto</th>\n",
              "      <th>Residuos</th>\n",
              "    </tr>\n",
              "  </thead>\n",
              "  <tbody>\n",
              "    <tr>\n",
              "      <th>0</th>\n",
              "      <td>25461</td>\n",
              "      <td>27.30</td>\n",
              "      <td>30229.200544</td>\n",
              "      <td>-4768.200544</td>\n",
              "    </tr>\n",
              "    <tr>\n",
              "      <th>1</th>\n",
              "      <td>28972</td>\n",
              "      <td>27.02</td>\n",
              "      <td>30006.633434</td>\n",
              "      <td>-1034.633434</td>\n",
              "    </tr>\n",
              "    <tr>\n",
              "      <th>2</th>\n",
              "      <td>30814</td>\n",
              "      <td>24.82</td>\n",
              "      <td>28257.891852</td>\n",
              "      <td>2556.108148</td>\n",
              "    </tr>\n",
              "    <tr>\n",
              "      <th>3</th>\n",
              "      <td>29799</td>\n",
              "      <td>23.98</td>\n",
              "      <td>27590.190521</td>\n",
              "      <td>2208.809479</td>\n",
              "    </tr>\n",
              "    <tr>\n",
              "      <th>4</th>\n",
              "      <td>28900</td>\n",
              "      <td>23.82</td>\n",
              "      <td>27463.009315</td>\n",
              "      <td>1436.990685</td>\n",
              "    </tr>\n",
              "  </tbody>\n",
              "</table>\n",
              "</div>"
            ],
            "text/plain": [
              "       Y      X    Y_previsto     Residuos\n",
              "0  25461  27.30  30229.200544 -4768.200544\n",
              "1  28972  27.02  30006.633434 -1034.633434\n",
              "2  30814  24.82  28257.891852  2556.108148\n",
              "3  29799  23.98  27590.190521  2208.809479\n",
              "4  28900  23.82  27463.009315  1436.990685"
            ]
          },
          "metadata": {},
          "execution_count": 50
        }
      ]
    },
    {
      "cell_type": "markdown",
      "metadata": {
        "id": "2sl2LwpuSANk"
      },
      "source": [
        "### Plote um gráfico de dispersão dos resíduos da regressão contra o $Y$ previsto"
      ]
    },
    {
      "cell_type": "code",
      "metadata": {
        "colab": {
          "base_uri": "https://localhost:8080/",
          "height": 431
        },
        "id": "FnlCBemoSANl",
        "outputId": "cafeff10-d444-46e4-e920-4abc19346422"
      },
      "source": [
        "ax = sns.scatterplot(x=dados.Y_previsto, y=dados.Residuos)\n",
        "ax.figure.set_size_inches(12, 6)\n",
        "ax.set_title('Resíduos vs Y previsto', fontsize=18)\n",
        "ax.set_xlabel('Y previsto', fontsize=14)\n",
        "ax.set_ylabel('Resíduos', fontsize=14)\n",
        "ax"
      ],
      "execution_count": 51,
      "outputs": [
        {
          "output_type": "execute_result",
          "data": {
            "text/plain": [
              "<matplotlib.axes._subplots.AxesSubplot at 0x7f60d3a324d0>"
            ]
          },
          "metadata": {},
          "execution_count": 51
        },
        {
          "output_type": "display_data",
          "data": {
            "image/png": "[encoded data removed]",
            "text/plain": [
              "<Figure size 864x432 with 1 Axes>"
            ]
          },
          "metadata": {
            "needs_background": "light"
          }
        }
      ]
    },
    {
      "cell_type": "markdown",
      "metadata": {
        "id": "Jg_WygGRSANq"
      },
      "source": [
        "### Obtenha o QQPlot dos resíduos"
      ]
    },
    {
      "cell_type": "code",
      "metadata": {
        "colab": {
          "base_uri": "https://localhost:8080/",
          "height": 294
        },
        "id": "3ht5zkGRSANq",
        "outputId": "b216d5fa-a57a-44fa-d241-93ce144d2bcf"
      },
      "source": [
        "(_, (_, _, _)) = probplot(dados.Residuos, plot = plt)"
      ],
      "execution_count": 52,
      "outputs": [
        {
          "output_type": "display_data",
          "data": {
            "image/png": "[encoded data removed]",
            "text/plain": [
              "<Figure size 432x288 with 1 Axes>"
            ]
          },
          "metadata": {
            "needs_background": "light"
          }
        }
      ]
    },
    {
      "cell_type": "markdown",
      "metadata": {
        "id": "B7EH-wPySANs"
      },
      "source": [
        "### <font color='red'>A partir dos outputs acima, qual conclusão podemos tirar sobre o comportamento dos resíduos?</font>\n",
        "\n",
        "Resp.: Podemos concluir que os dados se distribuem como uma normal"
      ]
    },
    {
      "cell_type": "code",
      "metadata": {
        "colab": {
          "base_uri": "https://localhost:8080/",
          "height": 282
        },
        "id": "KEZHy1_vDnYB",
        "outputId": "e2a99cec-025b-4b61-a6a6-69f9eb8c76ab"
      },
      "source": [
        "dados.Residuos.hist(bins=50)"
      ],
      "execution_count": 53,
      "outputs": [
        {
          "output_type": "execute_result",
          "data": {
            "text/plain": [
              "<matplotlib.axes._subplots.AxesSubplot at 0x7f60d3a3c510>"
            ]
          },
          "metadata": {},
          "execution_count": 53
        },
        {
          "output_type": "display_data",
          "data": {
            "image/png": "[encoded data removed]",
            "text/plain": [
              "<Figure size 432x288 with 1 Axes>"
            ]
          },
          "metadata": {
            "needs_background": "light"
          }
        }
      ]
    },
    {
      "cell_type": "markdown",
      "metadata": {
        "id": "R8BGdfv9ST7o"
      },
      "source": [
        "### Obtenha o R² da regressão pelo método da soma dos quadrados\n",
        "\n",
        "# $$R^2 = \\frac{SQR}{SQT}$$"
      ]
    },
    {
      "cell_type": "code",
      "metadata": {
        "colab": {
          "base_uri": "https://localhost:8080/"
        },
        "id": "rgpCnrk6SANu",
        "outputId": "780dddc6-2eee-4237-a829-64df32133e85"
      },
      "source": [
        "SQE = resultado_regressao.ssr\n",
        "SQE"
      ],
      "execution_count": 58,
      "outputs": [
        {
          "output_type": "execute_result",
          "data": {
            "text/plain": [
              "4718394688.067693"
            ]
          },
          "metadata": {},
          "execution_count": 58
        }
      ]
    },
    {
      "cell_type": "code",
      "metadata": {
        "colab": {
          "base_uri": "https://localhost:8080/"
        },
        "id": "QkFSorjOSANv",
        "outputId": "e8b428bf-2999-474d-c88e-ab036981b22a"
      },
      "source": [
        "SQR = resultado_regressao.ess\n",
        "SQR"
      ],
      "execution_count": 59,
      "outputs": [
        {
          "output_type": "execute_result",
          "data": {
            "text/plain": [
              "2325899486.7377863"
            ]
          },
          "metadata": {},
          "execution_count": 59
        }
      ]
    },
    {
      "cell_type": "code",
      "metadata": {
        "colab": {
          "base_uri": "https://localhost:8080/"
        },
        "id": "RdCgKCvnSANx",
        "outputId": "4f76229b-b6fc-4dd7-d2fe-4b044dd7bf90"
      },
      "source": [
        "SQT = SQR + SQE\n",
        "SQT"
      ],
      "execution_count": 62,
      "outputs": [
        {
          "output_type": "execute_result",
          "data": {
            "text/plain": [
              "7044294174.805479"
            ]
          },
          "metadata": {},
          "execution_count": 62
        }
      ]
    },
    {
      "cell_type": "code",
      "metadata": {
        "colab": {
          "base_uri": "https://localhost:8080/"
        },
        "id": "YQRZl990SANy",
        "outputId": "7fa7b94f-e96f-456e-b79f-ff92b807fe5f"
      },
      "source": [
        "R2 = SQR / SQT\n",
        "R2"
      ],
      "execution_count": 63,
      "outputs": [
        {
          "output_type": "execute_result",
          "data": {
            "text/plain": [
              "0.33018204933243206"
            ]
          },
          "metadata": {},
          "execution_count": 63
        }
      ]
    },
    {
      "cell_type": "code",
      "metadata": {
        "colab": {
          "base_uri": "https://localhost:8080/"
        },
        "id": "a9cmu8SuSAN0",
        "outputId": "f391e41f-2d6f-4723-9448-2873a7a52e65"
      },
      "source": [
        "resultado_regressao.rsquared"
      ],
      "execution_count": 64,
      "outputs": [
        {
          "output_type": "execute_result",
          "data": {
            "text/plain": [
              "0.330182049332432"
            ]
          },
          "metadata": {},
          "execution_count": 64
        }
      ]
    },
    {
      "cell_type": "code",
      "metadata": {
        "id": "og2SkKrQSAN1"
      },
      "source": [
        ""
      ],
      "execution_count": null,
      "outputs": []
    }
  ]
}